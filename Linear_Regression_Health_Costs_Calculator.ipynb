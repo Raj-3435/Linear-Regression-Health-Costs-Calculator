{
  "nbformat": 4,
  "nbformat_minor": 0,
  "metadata": {
    "colab": {
      "provenance": [],
      "authorship_tag": "ABX9TyPHZgQrF0/Bb8UYA+I2yzjp"
    },
    "kernelspec": {
      "name": "python3",
      "display_name": "Python 3"
    },
    "language_info": {
      "name": "python"
    }
  },
  "cells": [
    {
      "cell_type": "code",
      "source": [
        "# Install and import libraries\n",
        "!pip install -q git+https://github.com/tensorflow/docs\n",
        "import matplotlib.pyplot as plt\n",
        "import numpy as np\n",
        "import pandas as pd\n",
        "\n",
        "try:\n",
        "    # %tensorflow_version only exists in Colab\n",
        "    %tensorflow_version 2.x\n",
        "except Exception:\n",
        "    pass\n",
        "\n",
        "import tensorflow as tf\n",
        "from tensorflow import keras\n",
        "from tensorflow.keras import layers\n",
        "\n",
        "import tensorflow_docs as tfdocs\n",
        "import tensorflow_docs.plots\n",
        "import tensorflow_docs.modeling\n",
        "\n",
        "from sklearn.model_selection import train_test_split\n",
        "from sklearn.preprocessing import StandardScaler\n",
        "\n",
        "# ----------------------------------------------------------------\n",
        "# 1. Load dataset\n",
        "# ----------------------------------------------------------------\n",
        "!wget -q https://cdn.freecodecamp.org/project-data/health-costs/insurance.csv\n",
        "dataset = pd.read_csv('insurance.csv')\n",
        "\n",
        "# ----------------------------------------------------------------\n",
        "# 2. Encode categorical features\n",
        "# ----------------------------------------------------------------\n",
        "dataset['sex'] = dataset['sex'].map({'male': 1, 'female': 0})\n",
        "dataset['smoker'] = dataset['smoker'].map({'yes': 1, 'no': 0})\n",
        "\n",
        "# One-hot encode region\n",
        "dataset = pd.get_dummies(dataset, columns=['region'], drop_first=True)\n",
        "\n",
        "# Convert boolean dummies to int\n",
        "for col in ['region_northwest', 'region_southeast', 'region_southwest']:\n",
        "    dataset[col] = dataset[col].astype(int)\n",
        "\n",
        "# ----------------------------------------------------------------\n",
        "# 3. Feature engineering\n",
        "# ----------------------------------------------------------------\n",
        "dataset['bmi_smoker'] = dataset['bmi'] * dataset['smoker']\n",
        "dataset['age_bmi'] = dataset['age'] * dataset['bmi']\n",
        "\n",
        "# ----------------------------------------------------------------\n",
        "# 4. Split features and labels\n",
        "# ----------------------------------------------------------------\n",
        "X = dataset.drop(\"expenses\", axis=1)\n",
        "y = dataset[\"expenses\"]\n",
        "\n",
        "# ----------------------------------------------------------------\n",
        "# 5. Scale features and labels\n",
        "# ----------------------------------------------------------------\n",
        "scaler_X = StandardScaler()\n",
        "X_scaled = scaler_X.fit_transform(X)\n",
        "\n",
        "scaler_y = StandardScaler()\n",
        "y_scaled = scaler_y.fit_transform(y.values.reshape(-1, 1))\n",
        "\n",
        "# Train/test split\n",
        "X_train, X_test, y_train, y_test = train_test_split(\n",
        "    X_scaled, y_scaled, test_size=0.2, random_state=42\n",
        ")\n",
        "\n",
        "# ----------------------------------------------------------------\n",
        "# 6. Build model\n",
        "# ----------------------------------------------------------------\n",
        "def build_model():\n",
        "    model = keras.Sequential([\n",
        "        layers.Dense(128, activation='relu', input_shape=[X_train.shape[1]]),\n",
        "        layers.Dense(64, activation='relu'),\n",
        "        layers.Dense(32, activation='relu'),\n",
        "        layers.Dense(1)  # regression output\n",
        "    ])\n",
        "    model.compile(optimizer=keras.optimizers.Adam(1e-3),\n",
        "                  loss='mse',\n",
        "                  metrics=['mae', 'mse'])\n",
        "    return model\n",
        "\n",
        "model = build_model()\n",
        "model.summary()\n",
        "\n",
        "# ----------------------------------------------------------------\n",
        "# 7. Train with EarlyStopping\n",
        "# ----------------------------------------------------------------\n",
        "early_stop = keras.callbacks.EarlyStopping(\n",
        "    monitor='val_mae', patience=25, restore_best_weights=True\n",
        ")\n",
        "\n",
        "history = model.fit(\n",
        "    X_train, y_train,\n",
        "    validation_split=0.2,\n",
        "    epochs=400,\n",
        "    batch_size=32,\n",
        "    verbose=2,\n",
        "    callbacks=[early_stop]\n",
        ")\n",
        "\n",
        "# ----------------------------------------------------------------\n",
        "# 8. Evaluate\n",
        "# ----------------------------------------------------------------\n",
        "loss, mae, mse = model.evaluate(X_test, y_test, verbose=2)\n",
        "\n",
        "# Correctly unscale MAE\n",
        "mae_unscaled = mae * scaler_y.scale_[0]\n",
        "\n",
        "\n",
        "print(\"Testing set Mean Abs Error: {:5.2f} expenses\".format(mae_unscaled))\n",
        "\n",
        "if mae_unscaled < 3500:\n",
        "    print(\"You passed the challenge. Great job!\")\n",
        "else:\n",
        "    print(\"The Mean Abs Error must be less than 3500. Keep trying.\")\n",
        "\n",
        "# ----------------------------------------------------------------\n",
        "# 9. Predictions & Plot\n",
        "# ----------------------------------------------------------------\n",
        "test_predictions = model.predict(X_test).flatten()\n",
        "\n",
        "# Rescale predictions and true values\n",
        "test_predictions_unscaled = scaler_y.inverse_transform(\n",
        "    test_predictions.reshape(-1, 1)\n",
        ").flatten()\n",
        "y_test_unscaled = scaler_y.inverse_transform(y_test.reshape(-1, 1)).flatten()\n",
        "\n",
        "# Scatter plot\n",
        "a = plt.axes(aspect='equal')\n",
        "plt.scatter(y_test_unscaled, test_predictions_unscaled)\n",
        "plt.xlabel('True values (expenses)')\n",
        "plt.ylabel('Predictions (expenses)')\n",
        "lims = [0, 50000]\n",
        "plt.xlim(lims)\n",
        "plt.ylim(lims)\n",
        "_ = plt.plot(lims, lims)\n",
        "plt.show()\n"
      ],
      "metadata": {
        "id": "B9teym20yqpR",
        "colab": {
          "base_uri": "https://localhost:8080/",
          "height": 1000
        },
        "outputId": "d07933f1-865c-4dd5-8737-da9c3b6420af"
      },
      "execution_count": 5,
      "outputs": [
        {
          "output_type": "stream",
          "name": "stdout",
          "text": [
            "  Preparing metadata (setup.py) ... \u001b[?25l\u001b[?25hdone\n",
            "Colab only includes TensorFlow 2.x; %tensorflow_version has no effect.\n"
          ]
        },
        {
          "output_type": "stream",
          "name": "stderr",
          "text": [
            "/usr/local/lib/python3.12/dist-packages/keras/src/layers/core/dense.py:93: UserWarning: Do not pass an `input_shape`/`input_dim` argument to a layer. When using Sequential models, prefer using an `Input(shape)` object as the first layer in the model instead.\n",
            "  super().__init__(activity_regularizer=activity_regularizer, **kwargs)\n"
          ]
        },
        {
          "output_type": "display_data",
          "data": {
            "text/plain": [
              "\u001b[1mModel: \"sequential_3\"\u001b[0m\n"
            ],
            "text/html": [
              "<pre style=\"white-space:pre;overflow-x:auto;line-height:normal;font-family:Menlo,'DejaVu Sans Mono',consolas,'Courier New',monospace\"><span style=\"font-weight: bold\">Model: \"sequential_3\"</span>\n",
              "</pre>\n"
            ]
          },
          "metadata": {}
        },
        {
          "output_type": "display_data",
          "data": {
            "text/plain": [
              "┏━━━━━━━━━━━━━━━━━━━━━━━━━━━━━━━━━┳━━━━━━━━━━━━━━━━━━━━━━━━┳━━━━━━━━━━━━━━━┓\n",
              "┃\u001b[1m \u001b[0m\u001b[1mLayer (type)                   \u001b[0m\u001b[1m \u001b[0m┃\u001b[1m \u001b[0m\u001b[1mOutput Shape          \u001b[0m\u001b[1m \u001b[0m┃\u001b[1m \u001b[0m\u001b[1m      Param #\u001b[0m\u001b[1m \u001b[0m┃\n",
              "┡━━━━━━━━━━━━━━━━━━━━━━━━━━━━━━━━━╇━━━━━━━━━━━━━━━━━━━━━━━━╇━━━━━━━━━━━━━━━┩\n",
              "│ dense_12 (\u001b[38;5;33mDense\u001b[0m)                │ (\u001b[38;5;45mNone\u001b[0m, \u001b[38;5;34m128\u001b[0m)            │         \u001b[38;5;34m1,408\u001b[0m │\n",
              "├─────────────────────────────────┼────────────────────────┼───────────────┤\n",
              "│ dense_13 (\u001b[38;5;33mDense\u001b[0m)                │ (\u001b[38;5;45mNone\u001b[0m, \u001b[38;5;34m64\u001b[0m)             │         \u001b[38;5;34m8,256\u001b[0m │\n",
              "├─────────────────────────────────┼────────────────────────┼───────────────┤\n",
              "│ dense_14 (\u001b[38;5;33mDense\u001b[0m)                │ (\u001b[38;5;45mNone\u001b[0m, \u001b[38;5;34m32\u001b[0m)             │         \u001b[38;5;34m2,080\u001b[0m │\n",
              "├─────────────────────────────────┼────────────────────────┼───────────────┤\n",
              "│ dense_15 (\u001b[38;5;33mDense\u001b[0m)                │ (\u001b[38;5;45mNone\u001b[0m, \u001b[38;5;34m1\u001b[0m)              │            \u001b[38;5;34m33\u001b[0m │\n",
              "└─────────────────────────────────┴────────────────────────┴───────────────┘\n"
            ],
            "text/html": [
              "<pre style=\"white-space:pre;overflow-x:auto;line-height:normal;font-family:Menlo,'DejaVu Sans Mono',consolas,'Courier New',monospace\">┏━━━━━━━━━━━━━━━━━━━━━━━━━━━━━━━━━┳━━━━━━━━━━━━━━━━━━━━━━━━┳━━━━━━━━━━━━━━━┓\n",
              "┃<span style=\"font-weight: bold\"> Layer (type)                    </span>┃<span style=\"font-weight: bold\"> Output Shape           </span>┃<span style=\"font-weight: bold\">       Param # </span>┃\n",
              "┡━━━━━━━━━━━━━━━━━━━━━━━━━━━━━━━━━╇━━━━━━━━━━━━━━━━━━━━━━━━╇━━━━━━━━━━━━━━━┩\n",
              "│ dense_12 (<span style=\"color: #0087ff; text-decoration-color: #0087ff\">Dense</span>)                │ (<span style=\"color: #00d7ff; text-decoration-color: #00d7ff\">None</span>, <span style=\"color: #00af00; text-decoration-color: #00af00\">128</span>)            │         <span style=\"color: #00af00; text-decoration-color: #00af00\">1,408</span> │\n",
              "├─────────────────────────────────┼────────────────────────┼───────────────┤\n",
              "│ dense_13 (<span style=\"color: #0087ff; text-decoration-color: #0087ff\">Dense</span>)                │ (<span style=\"color: #00d7ff; text-decoration-color: #00d7ff\">None</span>, <span style=\"color: #00af00; text-decoration-color: #00af00\">64</span>)             │         <span style=\"color: #00af00; text-decoration-color: #00af00\">8,256</span> │\n",
              "├─────────────────────────────────┼────────────────────────┼───────────────┤\n",
              "│ dense_14 (<span style=\"color: #0087ff; text-decoration-color: #0087ff\">Dense</span>)                │ (<span style=\"color: #00d7ff; text-decoration-color: #00d7ff\">None</span>, <span style=\"color: #00af00; text-decoration-color: #00af00\">32</span>)             │         <span style=\"color: #00af00; text-decoration-color: #00af00\">2,080</span> │\n",
              "├─────────────────────────────────┼────────────────────────┼───────────────┤\n",
              "│ dense_15 (<span style=\"color: #0087ff; text-decoration-color: #0087ff\">Dense</span>)                │ (<span style=\"color: #00d7ff; text-decoration-color: #00d7ff\">None</span>, <span style=\"color: #00af00; text-decoration-color: #00af00\">1</span>)              │            <span style=\"color: #00af00; text-decoration-color: #00af00\">33</span> │\n",
              "└─────────────────────────────────┴────────────────────────┴───────────────┘\n",
              "</pre>\n"
            ]
          },
          "metadata": {}
        },
        {
          "output_type": "display_data",
          "data": {
            "text/plain": [
              "\u001b[1m Total params: \u001b[0m\u001b[38;5;34m11,777\u001b[0m (46.00 KB)\n"
            ],
            "text/html": [
              "<pre style=\"white-space:pre;overflow-x:auto;line-height:normal;font-family:Menlo,'DejaVu Sans Mono',consolas,'Courier New',monospace\"><span style=\"font-weight: bold\"> Total params: </span><span style=\"color: #00af00; text-decoration-color: #00af00\">11,777</span> (46.00 KB)\n",
              "</pre>\n"
            ]
          },
          "metadata": {}
        },
        {
          "output_type": "display_data",
          "data": {
            "text/plain": [
              "\u001b[1m Trainable params: \u001b[0m\u001b[38;5;34m11,777\u001b[0m (46.00 KB)\n"
            ],
            "text/html": [
              "<pre style=\"white-space:pre;overflow-x:auto;line-height:normal;font-family:Menlo,'DejaVu Sans Mono',consolas,'Courier New',monospace\"><span style=\"font-weight: bold\"> Trainable params: </span><span style=\"color: #00af00; text-decoration-color: #00af00\">11,777</span> (46.00 KB)\n",
              "</pre>\n"
            ]
          },
          "metadata": {}
        },
        {
          "output_type": "display_data",
          "data": {
            "text/plain": [
              "\u001b[1m Non-trainable params: \u001b[0m\u001b[38;5;34m0\u001b[0m (0.00 B)\n"
            ],
            "text/html": [
              "<pre style=\"white-space:pre;overflow-x:auto;line-height:normal;font-family:Menlo,'DejaVu Sans Mono',consolas,'Courier New',monospace\"><span style=\"font-weight: bold\"> Non-trainable params: </span><span style=\"color: #00af00; text-decoration-color: #00af00\">0</span> (0.00 B)\n",
              "</pre>\n"
            ]
          },
          "metadata": {}
        },
        {
          "output_type": "stream",
          "name": "stdout",
          "text": [
            "Epoch 1/400\n",
            "27/27 - 1s - 46ms/step - loss: 0.4979 - mae: 0.4761 - mse: 0.4979 - val_loss: 0.1876 - val_mae: 0.2661 - val_mse: 0.1876\n",
            "Epoch 2/400\n",
            "27/27 - 0s - 8ms/step - loss: 0.1933 - mae: 0.2782 - mse: 0.1933 - val_loss: 0.1653 - val_mae: 0.2865 - val_mse: 0.1653\n",
            "Epoch 3/400\n",
            "27/27 - 0s - 5ms/step - loss: 0.1634 - mae: 0.2490 - mse: 0.1634 - val_loss: 0.1548 - val_mae: 0.2697 - val_mse: 0.1548\n",
            "Epoch 4/400\n",
            "27/27 - 0s - 5ms/step - loss: 0.1528 - mae: 0.2425 - mse: 0.1528 - val_loss: 0.1497 - val_mae: 0.2387 - val_mse: 0.1497\n",
            "Epoch 5/400\n",
            "27/27 - 0s - 7ms/step - loss: 0.1487 - mae: 0.2368 - mse: 0.1487 - val_loss: 0.1504 - val_mae: 0.2590 - val_mse: 0.1504\n",
            "Epoch 6/400\n",
            "27/27 - 0s - 12ms/step - loss: 0.1484 - mae: 0.2414 - mse: 0.1484 - val_loss: 0.1676 - val_mae: 0.2196 - val_mse: 0.1676\n",
            "Epoch 7/400\n",
            "27/27 - 0s - 17ms/step - loss: 0.1404 - mae: 0.2231 - mse: 0.1404 - val_loss: 0.1502 - val_mae: 0.2330 - val_mse: 0.1502\n",
            "Epoch 8/400\n",
            "27/27 - 0s - 13ms/step - loss: 0.1419 - mae: 0.2427 - mse: 0.1419 - val_loss: 0.1448 - val_mae: 0.2224 - val_mse: 0.1448\n",
            "Epoch 9/400\n",
            "27/27 - 0s - 16ms/step - loss: 0.1390 - mae: 0.2283 - mse: 0.1390 - val_loss: 0.1568 - val_mae: 0.2281 - val_mse: 0.1568\n",
            "Epoch 10/400\n",
            "27/27 - 0s - 11ms/step - loss: 0.1365 - mae: 0.2174 - mse: 0.1365 - val_loss: 0.1450 - val_mae: 0.2523 - val_mse: 0.1450\n",
            "Epoch 11/400\n",
            "27/27 - 0s - 5ms/step - loss: 0.1331 - mae: 0.2269 - mse: 0.1331 - val_loss: 0.1527 - val_mae: 0.2561 - val_mse: 0.1527\n",
            "Epoch 12/400\n",
            "27/27 - 0s - 5ms/step - loss: 0.1284 - mae: 0.2166 - mse: 0.1284 - val_loss: 0.1470 - val_mae: 0.2307 - val_mse: 0.1470\n",
            "Epoch 13/400\n",
            "27/27 - 0s - 10ms/step - loss: 0.1289 - mae: 0.2168 - mse: 0.1289 - val_loss: 0.1518 - val_mae: 0.2357 - val_mse: 0.1518\n",
            "Epoch 14/400\n",
            "27/27 - 0s - 8ms/step - loss: 0.1290 - mae: 0.2174 - mse: 0.1290 - val_loss: 0.1618 - val_mae: 0.2382 - val_mse: 0.1618\n",
            "Epoch 15/400\n",
            "27/27 - 0s - 9ms/step - loss: 0.1264 - mae: 0.2214 - mse: 0.1264 - val_loss: 0.1450 - val_mae: 0.2510 - val_mse: 0.1450\n",
            "Epoch 16/400\n",
            "27/27 - 0s - 13ms/step - loss: 0.1257 - mae: 0.2181 - mse: 0.1257 - val_loss: 0.1397 - val_mae: 0.2219 - val_mse: 0.1397\n",
            "Epoch 17/400\n",
            "27/27 - 0s - 15ms/step - loss: 0.1184 - mae: 0.2089 - mse: 0.1184 - val_loss: 0.1496 - val_mae: 0.2156 - val_mse: 0.1496\n",
            "Epoch 18/400\n",
            "27/27 - 0s - 5ms/step - loss: 0.1179 - mae: 0.2093 - mse: 0.1179 - val_loss: 0.1488 - val_mae: 0.2513 - val_mse: 0.1488\n",
            "Epoch 19/400\n",
            "27/27 - 0s - 5ms/step - loss: 0.1183 - mae: 0.2055 - mse: 0.1183 - val_loss: 0.1489 - val_mae: 0.2486 - val_mse: 0.1489\n",
            "Epoch 20/400\n",
            "27/27 - 0s - 5ms/step - loss: 0.1147 - mae: 0.2064 - mse: 0.1147 - val_loss: 0.1512 - val_mae: 0.2493 - val_mse: 0.1512\n",
            "Epoch 21/400\n",
            "27/27 - 0s - 4ms/step - loss: 0.1126 - mae: 0.2057 - mse: 0.1126 - val_loss: 0.1475 - val_mae: 0.2074 - val_mse: 0.1475\n",
            "Epoch 22/400\n",
            "27/27 - 0s - 5ms/step - loss: 0.1148 - mae: 0.2042 - mse: 0.1148 - val_loss: 0.1559 - val_mae: 0.2642 - val_mse: 0.1559\n",
            "Epoch 23/400\n",
            "27/27 - 0s - 5ms/step - loss: 0.1126 - mae: 0.2076 - mse: 0.1126 - val_loss: 0.1566 - val_mae: 0.2306 - val_mse: 0.1566\n",
            "Epoch 24/400\n",
            "27/27 - 0s - 5ms/step - loss: 0.1072 - mae: 0.1971 - mse: 0.1072 - val_loss: 0.1461 - val_mae: 0.2303 - val_mse: 0.1461\n",
            "Epoch 25/400\n",
            "27/27 - 0s - 6ms/step - loss: 0.1092 - mae: 0.1989 - mse: 0.1092 - val_loss: 0.1571 - val_mae: 0.2264 - val_mse: 0.1571\n",
            "Epoch 26/400\n",
            "27/27 - 0s - 10ms/step - loss: 0.1085 - mae: 0.2035 - mse: 0.1085 - val_loss: 0.1482 - val_mae: 0.2264 - val_mse: 0.1482\n",
            "Epoch 27/400\n",
            "27/27 - 0s - 6ms/step - loss: 0.1054 - mae: 0.1968 - mse: 0.1054 - val_loss: 0.1682 - val_mae: 0.2464 - val_mse: 0.1682\n",
            "Epoch 28/400\n",
            "27/27 - 0s - 11ms/step - loss: 0.1057 - mae: 0.2033 - mse: 0.1057 - val_loss: 0.1805 - val_mae: 0.2431 - val_mse: 0.1805\n",
            "Epoch 29/400\n",
            "27/27 - 0s - 5ms/step - loss: 0.1045 - mae: 0.1988 - mse: 0.1045 - val_loss: 0.1721 - val_mae: 0.2384 - val_mse: 0.1721\n",
            "Epoch 30/400\n",
            "27/27 - 0s - 11ms/step - loss: 0.0978 - mae: 0.1872 - mse: 0.0978 - val_loss: 0.1586 - val_mae: 0.2500 - val_mse: 0.1586\n",
            "Epoch 31/400\n",
            "27/27 - 0s - 6ms/step - loss: 0.0957 - mae: 0.1868 - mse: 0.0957 - val_loss: 0.1764 - val_mae: 0.2489 - val_mse: 0.1764\n",
            "Epoch 32/400\n",
            "27/27 - 0s - 12ms/step - loss: 0.0973 - mae: 0.1892 - mse: 0.0973 - val_loss: 0.1545 - val_mae: 0.2386 - val_mse: 0.1545\n",
            "Epoch 33/400\n",
            "27/27 - 0s - 15ms/step - loss: 0.0943 - mae: 0.1853 - mse: 0.0943 - val_loss: 0.1655 - val_mae: 0.2337 - val_mse: 0.1655\n",
            "Epoch 34/400\n",
            "27/27 - 0s - 18ms/step - loss: 0.0940 - mae: 0.1873 - mse: 0.0940 - val_loss: 0.1604 - val_mae: 0.2281 - val_mse: 0.1604\n",
            "Epoch 35/400\n",
            "27/27 - 0s - 5ms/step - loss: 0.0926 - mae: 0.1827 - mse: 0.0926 - val_loss: 0.1770 - val_mae: 0.2434 - val_mse: 0.1770\n",
            "Epoch 36/400\n",
            "27/27 - 0s - 12ms/step - loss: 0.0969 - mae: 0.1948 - mse: 0.0969 - val_loss: 0.1809 - val_mae: 0.2500 - val_mse: 0.1809\n",
            "Epoch 37/400\n",
            "27/27 - 0s - 10ms/step - loss: 0.0922 - mae: 0.1869 - mse: 0.0922 - val_loss: 0.1695 - val_mae: 0.2696 - val_mse: 0.1695\n",
            "Epoch 38/400\n",
            "27/27 - 0s - 5ms/step - loss: 0.0899 - mae: 0.1833 - mse: 0.0899 - val_loss: 0.1633 - val_mae: 0.2357 - val_mse: 0.1633\n",
            "Epoch 39/400\n",
            "27/27 - 0s - 5ms/step - loss: 0.0883 - mae: 0.1785 - mse: 0.0883 - val_loss: 0.1700 - val_mae: 0.2398 - val_mse: 0.1700\n",
            "Epoch 40/400\n",
            "27/27 - 0s - 5ms/step - loss: 0.0877 - mae: 0.1765 - mse: 0.0877 - val_loss: 0.1765 - val_mae: 0.2715 - val_mse: 0.1765\n",
            "Epoch 41/400\n",
            "27/27 - 0s - 10ms/step - loss: 0.0910 - mae: 0.1948 - mse: 0.0910 - val_loss: 0.1778 - val_mae: 0.2485 - val_mse: 0.1778\n",
            "Epoch 42/400\n",
            "27/27 - 0s - 18ms/step - loss: 0.0893 - mae: 0.1921 - mse: 0.0893 - val_loss: 0.1920 - val_mae: 0.2598 - val_mse: 0.1920\n",
            "Epoch 43/400\n",
            "27/27 - 0s - 5ms/step - loss: 0.0905 - mae: 0.1873 - mse: 0.0905 - val_loss: 0.1632 - val_mae: 0.2355 - val_mse: 0.1632\n",
            "Epoch 44/400\n",
            "27/27 - 0s - 5ms/step - loss: 0.0834 - mae: 0.1768 - mse: 0.0834 - val_loss: 0.1849 - val_mae: 0.2570 - val_mse: 0.1849\n",
            "Epoch 45/400\n",
            "27/27 - 0s - 5ms/step - loss: 0.0818 - mae: 0.1758 - mse: 0.0818 - val_loss: 0.1686 - val_mae: 0.2564 - val_mse: 0.1686\n",
            "Epoch 46/400\n",
            "27/27 - 0s - 6ms/step - loss: 0.0825 - mae: 0.1806 - mse: 0.0825 - val_loss: 0.1788 - val_mae: 0.2525 - val_mse: 0.1788\n",
            "9/9 - 0s - 5ms/step - loss: 0.1559 - mae: 0.2238 - mse: 0.1559\n",
            "Testing set Mean Abs Error: 2709.79 expenses\n",
            "You passed the challenge. Great job!\n",
            "\u001b[1m9/9\u001b[0m \u001b[32m━━━━━━━━━━━━━━━━━━━━\u001b[0m\u001b[37m\u001b[0m \u001b[1m0s\u001b[0m 6ms/step \n"
          ]
        },
        {
          "output_type": "display_data",
          "data": {
            "text/plain": [
              "<Figure size 640x480 with 1 Axes>"
            ],
            "image/png": "[encoded data removed]"
          },
          "metadata": {}
        }
      ]
    },
    {
      "cell_type": "code",
      "source": [],
      "metadata": {
        "id": "kIUFVE7s0Kf-"
      },
      "execution_count": 5,
      "outputs": []
    }
  ]
}